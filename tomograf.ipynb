{
 "cells": [
  {
   "attachments": {},
   "cell_type": "markdown",
   "metadata": {},
   "source": [
    "# Tomograf\n"
   ]
  },
  {
   "cell_type": "code",
   "execution_count": 2,
   "metadata": {},
   "outputs": [],
   "source": [
    "from ipywidgets import *\n",
    "from PIL import Image\n",
    "import numpy as np\n",
    "from skimage.draw import line\n",
    "from IPython.display import display\n",
    "import pydicom\n",
    "from datetime import date\n",
    "import matplotlib.pyplot as plt"
   ]
  },
  {
   "attachments": {},
   "cell_type": "markdown",
   "metadata": {},
   "source": [
    "### Tworzymy klasę odpowiadającą za przetwarzanie obrazu wejściowego na sinogram oraz późniejszą rekonstrukcję tego obrazu"
   ]
  },
  {
   "cell_type": "code",
   "execution_count": 104,
   "metadata": {},
   "outputs": [],
   "source": [
    "class Tomograph:\n",
    "    def configure(self, img, *, alpha=1, n_detectors=1000, phi=np.pi, hamm_filter=True):\n",
    "        self.img = img\n",
    "        self.__reshape_img()\n",
    "        self.img = np.asarray(self.img)\n",
    "        self.alpha = alpha\n",
    "        self.n_detectors = n_detectors\n",
    "        self.phi = phi\n",
    "        self.n_steps = int(np.floor(180 / self.alpha))\n",
    "        self.generated_sinogram = np.zeros((self.n_steps, self.n_detectors), dtype=int)\n",
    "        self.bresenham_lines = []\n",
    "        self.hamm_filter = hamm_filter\n",
    "        self.reconstructed = []\n",
    "\n",
    "    def __reshape_img(self):\n",
    "        width, height = self.img.size\n",
    "        new_size = max(width, height)\n",
    "        self.img = self.img.resize((new_size, new_size))\n",
    "\n",
    "    def __map_coords(self, angle):\n",
    "        width = int(self.img.shape[0] / 2)\n",
    "        x = int(np.cos(angle) * width) + width - 1\n",
    "        y = -int(np.sin(angle) * width) + width - 1\n",
    "        return x, y\n",
    "\n",
    "    def get_sinogram(self):\n",
    "        return Image.fromarray(self.generated_sinogram).convert('L')\n",
    "\n",
    "    def __normalize_img(self, img):\n",
    "        brightest_pixel = np.max(img)\n",
    "        if brightest_pixel == 0:\n",
    "            return img\n",
    "        return img / brightest_pixel * 255\n",
    "\n",
    "    def generate_sinogram(self):\n",
    "        i = 0\n",
    "        sl_filter = self.__hamming_filter(self.n_detectors)\n",
    "        for angle in np.arange(0, np.pi, self.alpha * (np.pi / 180)):\n",
    "            for detector in range(self.n_detectors):\n",
    "                emitter_angle = angle + self.phi / 2 - detector * self.phi / (self.n_detectors - 1)\n",
    "                emitter_coordX, emitter_coordY = self.__map_coords(emitter_angle)\n",
    "                detector_angle = angle + np.pi - self.phi / 2 + detector * self.phi / (self.n_detectors - 1)\n",
    "                detector_coordX, detector_coordY = self.__map_coords(detector_angle)\n",
    "\n",
    "                rr, cc = line(emitter_coordX, emitter_coordY, detector_coordX, detector_coordY)\n",
    "                self.generated_sinogram[i][detector] += self.img[rr, cc].sum()\n",
    "                self.bresenham_lines.append([rr, cc])\n",
    "\n",
    "            if self.hamm_filter:\n",
    "                self.generated_sinogram[i] = np.array(np.convolve(self.generated_sinogram[i], sl_filter, 'same'))\n",
    "            i += 1\n",
    "\n",
    "        self.generated_sinogram = self.__normalize_img(self.generated_sinogram)\n",
    "\n",
    "    def reconstruct(self):\n",
    "        reconstructed_img = np.zeros((self.img.shape[0], self.img.shape[1]))\n",
    "        i = 0\n",
    "        generated_sinogram_flattened = self.generated_sinogram.flatten()\n",
    "        for bresenham_line in self.bresenham_lines:\n",
    "            rr, cc = bresenham_line\n",
    "            reconstructed_img[rr, cc] += generated_sinogram_flattened[i]\n",
    "            i += 1\n",
    "            if i % 100 == 0:\n",
    "                self.reconstructed.append(reconstructed_img.copy())\n",
    "                self.reconstructed[-1] = self.__normalize_img(self.reconstructed[-1])\n",
    "                self.reconstructed[-1] = Image.fromarray(self.reconstructed[-1]).convert('L')\n",
    "                # print(i)\n",
    "        else:\n",
    "            self.reconstructed.append(reconstructed_img.copy())\n",
    "            self.reconstructed[-1] = self.__normalize_img(self.reconstructed[-1])\n",
    "            self.reconstructed[-1] = Image.fromarray(self.reconstructed[-1]).convert('L')\n",
    "                # print(i)\n",
    "    \n",
    "    def get_reconstructed(self, number):\n",
    "        return self.reconstructed[number].resize((400, 400))\n",
    "    \n",
    "    def get_all_reconstructed(self):\n",
    "        return self.reconstructed\n",
    "    \n",
    "    def get_final_reconstructed(self):\n",
    "        return self.reconstructed[-1]\n",
    "\n",
    "    def get_images_number(self):\n",
    "        return len(self.reconstructed)\n",
    "\n",
    "    # Ram-Lak with hamming filter\n",
    "    def __hamming_filter(self, length):\n",
    "        filter = []\n",
    "        ham = np.hamming(length)\n",
    "        length = int(length/2)\n",
    "        for i, j in zip(range(-length, length), ham):\n",
    "            if i % 2 != 0:\n",
    "                val = ((-4/np.pi**2)/(i**2)) * j\n",
    "                filter.append(val)\n",
    "            else:\n",
    "                filter.append(0)\n",
    "        filter[int(length)] = 1\n",
    "\n",
    "        return filter\n",
    "    \n",
    "    def run(self, source, *, alpha=1, n_detectors=1000, phi=np.pi, hamm_filter=True):\n",
    "        initial_img = Image.open(source).convert('L')\n",
    "        self.configure(initial_img, alpha=alpha, n_detectors=n_detectors, phi=phi, hamm_filter=hamm_filter)\n",
    "        self.generate_sinogram()\n",
    "        path = 'Output/Sinogram/sinogram.jpg'\n",
    "        self.get_sinogram().save(path)\n",
    "        display(Image.open(path))\n",
    "        self.reconstruct()\n",
    "        \n",
    "    def get_initial_img(self):\n",
    "        return self.img\n",
    "    \n",
    "def rmse(img1, img2):\n",
    "    return np.sqrt(np.mean((img1-img2)**2))\n"
   ]
  },
  {
   "attachments": {},
   "cell_type": "markdown",
   "metadata": {},
   "source": [
    "### Wprowadzanie parametrów urządzenia:\n",
    "-  SOURCE_IMAGE_PATH - lokalizacja obrazu wejściowego\n",
    "-  ALPHA - Krok układu emiter/detektor w stopniach\n",
    "-  N_DETECTORS - liczba detektorów użytych dla jednego kąta nachylenia układu emiter/detektor\n",
    "-  PHI - rozpiętość układu emiter/detektor w radianach\n",
    "- SHOW_MIDDLE_STEPS - pokazuje stany pośrednie rekonstrukcji obrazu\n",
    "\n",
    "Na wyjściu otrzymujemy kolejno:\n",
    "1. obraz wejściowy\n",
    "2. sinogram\n",
    "3. zrekonstruowany obraz"
   ]
  },
  {
   "cell_type": "code",
   "execution_count": null,
   "metadata": {},
   "outputs": [],
   "source": [
    "# config\n",
    "SOURCE_IMAGE_PATH = 'Input\\Img\\Kwadraty2.jpg'\n",
    "ALPHA = 1\n",
    "N_DETECTORS = 100\n",
    "PHI = np.pi\n",
    "SHOW_MIDDLE_STEPS = True\n",
    "# config"
   ]
  },
  {
   "cell_type": "code",
   "execution_count": 105,
   "metadata": {},
   "outputs": [
    {
     "data": {
      "image/png": "[encoded data removed]",
      "text/plain": [
       "<PIL.Image.Image image mode=RGB size=400x400>"
      ]
     },
     "metadata": {},
     "output_type": "display_data"
    },
    {
     "data": {
      "image/png": "[encoded data removed]",
      "text/plain": [
       "<PIL.JpegImagePlugin.JpegImageFile image mode=L size=100x180>"
      ]
     },
     "metadata": {},
     "output_type": "display_data"
    },
    {
     "data": {
      "application/vnd.jupyter.widget-view+json": {
       "model_id": "b3c1964059ec49518c0b3a87a5a58284",
       "version_major": 2,
       "version_minor": 0
      },
      "text/plain": [
       "interactive(children=(IntSlider(value=0, description='number', max=180), Output()), _dom_classes=('widget-inte…"
      ]
     },
     "metadata": {},
     "output_type": "display_data"
    }
   ],
   "source": [
    "display(Image.open(SOURCE_IMAGE_PATH).resize((400, 400)))\n",
    "tomograph = Tomograph()\n",
    "tomograph.run(source=SOURCE_IMAGE_PATH, hamm_filter=True, alpha=ALPHA, n_detectors=N_DETECTORS, phi=PHI)\n",
    "if SHOW_MIDDLE_STEPS:\n",
    "    interact(tomograph.get_reconstructed, number=IntSlider(value=0, min=0, max=tomograph.get_images_number()-1))\n",
    "else:\n",
    "    display(tomograph.get_reconstructed(-1))\n"
   ]
  },
  {
   "attachments": {},
   "cell_type": "markdown",
   "metadata": {},
   "source": [
    "### Tworzymy klasę odpowiedzialną za zapisanie pliku w formacie DICOM"
   ]
  },
  {
   "cell_type": "code",
   "execution_count": 106,
   "metadata": {},
   "outputs": [],
   "source": [
    "class Dicom:\n",
    "    def load_image(dicom_file):\n",
    "        img = dicom_file.pixel_array.astype(float)\n",
    "        rescaled_img = (np.maximum(img, 0) / img.max()) * 255\n",
    "        final_img = np.uint8(rescaled_img)\n",
    "        final_img = Image.fromarray(final_img)\n",
    "        return final_img\n",
    "\n",
    "    def load_file(path):\n",
    "        ds = pydicom.dcmread(path)\n",
    "        patientData = {}\n",
    "        patientData['PatientName'] = ds['PatientName'].value\n",
    "        patientData['StudyDate'] = ds['StudyDate'].value\n",
    "        patientData['StudyDescription'] = ds['StudyDescription'].value\n",
    "        patientData['Image'] = Dicom.load_image(ds)\n",
    "        return patientData\n",
    "\n",
    "    def save_file(patientData, path):\n",
    "        img = np.asarray(patientData['Image'])\n",
    "        ds = pydicom.dcmread('Input/Dicom/dicom.dcm')\n",
    "\n",
    "        ds.PatientName = patientData['PatientName']\n",
    "        ds.StudyDate = Dicom.convert_date(patientData['StudyDate'])\n",
    "        ds.StudyDescription = patientData['StudyDescription']\n",
    "        ds.PixelData = patientData['Image'].tobytes()\n",
    "\n",
    "        ds.Rows = img.shape[0]\n",
    "        ds.Columns = img.shape[1]\n",
    "        ds.SamplesPerPixel = 1\n",
    "        ds.BitsStored = 8\n",
    "        ds.BitsAllocated = 8\n",
    "        ds.HighBit = 7\n",
    "        ds.PixelRepresentation = 0\n",
    "\n",
    "        ds.save_as(path)\n",
    "\n",
    "    def convert_date(date):\n",
    "        return date.strftime('%Y%m%d')"
   ]
  },
  {
   "attachments": {},
   "cell_type": "markdown",
   "metadata": {},
   "source": [
    "### Podajemy parametry pliku do zapisania w formacie DICOM"
   ]
  },
  {
   "cell_type": "code",
   "execution_count": 107,
   "metadata": {},
   "outputs": [],
   "source": [
    "#config\n",
    "NAME = 'Stefan Zbaszyniak'\n",
    "YEAR = 2023\n",
    "MONTH = 3\n",
    "DAY = 10\n",
    "DESCRIPTION = 'Test'\n",
    "IMAGE_PATH = 'Output\\Sinogram\\sinogram.jpg'\n",
    "#config\n",
    "\n",
    "\n",
    "studyDate = date(year=YEAR, month=MONTH, day=DAY)\n",
    "img = Image.open(IMAGE_PATH).convert('L')\n",
    "patientData = {'PatientName': NAME, 'StudyDescription': DESCRIPTION, 'Image': img,\n",
    "                   'StudyDate': studyDate}\n",
    "Dicom.save_file(patientData, 'Output/Dicom/dicom.dcm')"
   ]
  },
  {
   "attachments": {},
   "cell_type": "markdown",
   "metadata": {},
   "source": [
    "### Odczytujemy dane z zapisanego wcześniej pliku"
   ]
  },
  {
   "cell_type": "code",
   "execution_count": 108,
   "metadata": {},
   "outputs": [
    {
     "data": {
      "image/png": "[encoded data removed]",
      "text/plain": [
       "<PIL.Image.Image image mode=L size=100x180>"
      ]
     },
     "metadata": {},
     "output_type": "display_data"
    },
    {
     "data": {
      "text/plain": [
       "'Stefan Zbaszyniak'"
      ]
     },
     "metadata": {},
     "output_type": "display_data"
    },
    {
     "data": {
      "text/plain": [
       "'20230310'"
      ]
     },
     "metadata": {},
     "output_type": "display_data"
    },
    {
     "data": {
      "text/plain": [
       "'Test'"
      ]
     },
     "metadata": {},
     "output_type": "display_data"
    }
   ],
   "source": [
    "path = 'Output/Dicom/dicom.dcm'\n",
    "patientData = Dicom.load_file(path)\n",
    "display(patientData['Image'])\n",
    "display(patientData['PatientName'])\n",
    "display(patientData['StudyDate'])\n",
    "display(patientData['StudyDescription'])"
   ]
  },
  {
   "attachments": {},
   "cell_type": "markdown",
   "metadata": {},
   "source": [
    "### Wyliczamy statystyki dokładności działania tomografu"
   ]
  },
  {
   "cell_type": "code",
   "execution_count": 109,
   "metadata": {},
   "outputs": [
    {
     "data": {
      "text/plain": [
       "<Figure size 640x480 with 0 Axes>"
      ]
     },
     "metadata": {},
     "output_type": "display_data"
    }
   ],
   "source": [
    "initial_img = Image.fromarray(tomograph.get_initial_img())\n",
    "mse = []\n",
    "for img in tomograph.get_all_reconstructed():\n",
    "    diff = rmse(np.asarray(img), tomograph.get_initial_img())\n",
    "    mse.append(diff)\n",
    "\n",
    "plt.plot(range(tomograph.get_images_number()), mse)\n",
    "plt.title('Zależność RMSE dla pośrednich obrazów rekonstrukcji')\n",
    "plt.xlabel('Numer obrazu')\n",
    "plt.ylabel('Błąd średniokwadratowy')\n",
    "plt.xlim((0, tomograph.get_images_number()-1))\n",
    "# plt.show()\n",
    "plt.savefig('Experiment_Results/fig0')\n",
    "plt.clf()\n",
    "\n",
    "range_n_detectors = [i for i in range(90, 721, 90)]\n",
    "range_n_steps = [i for i in range(90, 721, 90)]\n",
    "range_alpha = [180/i for i in range(90, 721, 90)]\n",
    "range_degrees = [i for i in range(45, 271, 45)]\n",
    "range_phi = [np.pi/180 * i for i in range_degrees]\n",
    "\n",
    "# Zależność rekonstrukcji obrazu od liczby detektorów\n",
    "mse = []\n",
    "for step in range_n_detectors:\n",
    "    t = Tomograph()\n",
    "    t.configure(initial_img, n_detectors=step, alpha=2, phi=np.pi)\n",
    "    t.generate_sinogram()\n",
    "    t.reconstruct()\n",
    "    img = t.get_final_reconstructed()\n",
    "    diff = rmse(np.asarray(img), np.asarray(t.get_initial_img()))\n",
    "    mse.append(diff)\n",
    "\n",
    "plt.plot(range_n_detectors, mse)\n",
    "plt.title('Zależność RMSE od liczby detektorów')\n",
    "plt.xlabel('Liczba detektorów')\n",
    "plt.ylabel('Błąd średniokwadratowy')\n",
    "plt.xlim((range_n_detectors[0], range_n_detectors[-1]))\n",
    "plt.savefig('Experiment_Results/fig1')\n",
    "#plt.show()\n",
    "plt.clf()\n",
    "\n",
    "# Zależność rekonstrukcji obrazu od liczby kroków\n",
    "mse = []\n",
    "for step in range_alpha:\n",
    "    t = Tomograph()\n",
    "    t.configure(initial_img, n_detectors=180, alpha=step, phi=np.pi)\n",
    "    t.generate_sinogram()\n",
    "    t.reconstruct()\n",
    "    img = t.get_final_reconstructed()\n",
    "    diff = rmse(np.asarray(img), np.asarray(t.get_initial_img()))\n",
    "    mse.append(diff)\n",
    "\n",
    "plt.plot(range_n_steps, mse)\n",
    "plt.title('Zależność RMSE od liczby kroków')\n",
    "plt.xlabel('Liczba kroków')\n",
    "plt.ylabel('Błąd średniokwadratowy')\n",
    "plt.xlim((range_n_steps[0], range_n_steps[-1]))\n",
    "plt.savefig('Experiment_Results/fig2')\n",
    "#plt.show()\n",
    "plt.clf()\n",
    "\n",
    "# Zależność rekonstrukcji obrazu od rozpiętości wachlarza\n",
    "mse = []\n",
    "for step in range_phi:\n",
    "    t = Tomograph()\n",
    "    t.configure(initial_img, n_detectors=180, alpha=2, phi=step)\n",
    "    t.generate_sinogram()\n",
    "    t.reconstruct()\n",
    "    img = t.get_final_reconstructed()\n",
    "    diff = rmse(np.asarray(img), np.asarray(t.get_initial_img()))\n",
    "    mse.append(diff)\n",
    "\n",
    "plt.plot(range_degrees, mse)\n",
    "plt.title('Zależność RMSE od rozpiętości wachlarza')\n",
    "plt.xlabel('Rozpiętość wachlarza (°)')\n",
    "plt.ylabel('Błąd średniokwadratowy')\n",
    "plt.xlim((range_degrees[0], range_degrees[-1]))\n",
    "plt.savefig('Experiment_Results/fig3')\n",
    "#plt.show()\n",
    "plt.clf()\n",
    "\n",
    "path = 'Input/Img/Shepp_logan.jpg'\n",
    "initial_img = Image.open(path).convert('L')\n",
    "t = Tomograph()\n",
    "t.configure(initial_img, n_detectors=180, alpha=2, phi=270 * np.pi/180, hamm_filter=True)\n",
    "t.generate_sinogram()\n",
    "for img in t.reconstruct(n_images=1):\n",
    "    diff = t.rmse(np.asarray(img), np.asarray(t.get_initial_img()))\n",
    "    print('Błąd średniokwadratowy dla', path, 'z użyciem filtra:', diff)\n",
    "    img.save('Experiment_Results/Shepp_logan_filtered.png')\n",
    "\n",
    "t = Tomograph()\n",
    "t.configure(initial_img, n_detectors=180, alpha=2, phi=270 * np.pi/180, hamm_filter=False)\n",
    "t.generate_sinogram()\n",
    "for img in t.reconstruct(n_images=1):\n",
    "    diff = t.rmse(np.asarray(img), np.asarray(t.get_initial_img()))\n",
    "    print('Błąd średniokwadratowy dla', path, 'bez filtra:', diff)\n",
    "    img.save('Experiment_Results/Shepp_logan_unfiltered.png')"
   ]
  },
  {
   "attachments": {},
   "cell_type": "markdown",
   "metadata": {},
   "source": [
    "### Wizualizacja otrzymanych danych"
   ]
  },
  {
   "cell_type": "code",
   "execution_count": 3,
   "metadata": {},
   "outputs": [
    {
     "data": {
      "application/vnd.jupyter.widget-view+json": {
       "model_id": "1f1cb178146d41e6bf194ea9594586d8",
       "version_major": 2,
       "version_minor": 0
      },
      "text/plain": [
       "HBox(children=(Image(value=b'\\x89PNG\\r\\n\\x1a\\n\\x00\\x00\\x00\\rIHDR\\x00\\x00\\x02\\x80\\x00\\x00\\x01\\xe0\\x08\\x06\\x00\\x…"
      ]
     },
     "metadata": {},
     "output_type": "display_data"
    },
    {
     "data": {
      "application/vnd.jupyter.widget-view+json": {
       "model_id": "91e2a6e759404d53a3f5e2563506c9f4",
       "version_major": 2,
       "version_minor": 0
      },
      "text/plain": [
       "HBox(children=(Image(value=b'\\x89PNG\\r\\n\\x1a\\n\\x00\\x00\\x00\\rIHDR\\x00\\x00\\x02\\x80\\x00\\x00\\x01\\xe0\\x08\\x06\\x00\\x…"
      ]
     },
     "metadata": {},
     "output_type": "display_data"
    }
   ],
   "source": [
    "display(widgets.HBox([widgets.Image(value=open('Experiment_Results/fig0.png', 'rb').read(), format='png'),\n",
    "                      widgets.Image(value=open('Experiment_Results/fig1.png', 'rb').read(), format='png')]))\n",
    "display(widgets.HBox([widgets.Image(value=open('Experiment_Results/fig2.png', 'rb').read(), format='png'),\n",
    "                      widgets.Image(value=open('Experiment_Results/fig3.png', 'rb').read(), format='png')]))"
   ]
  }
 ],
 "metadata": {
  "kernelspec": {
   "display_name": "Python 3 (ipykernel)",
   "language": "python",
   "name": "python3"
  },
  "language_info": {
   "codemirror_mode": {
    "name": "ipython",
    "version": 3
   },
   "file_extension": ".py",
   "mimetype": "text/x-python",
   "name": "python",
   "nbconvert_exporter": "python",
   "pygments_lexer": "ipython3",
   "version": "3.9.0"
  }
 },
 "nbformat": 4,
 "nbformat_minor": 2
}
