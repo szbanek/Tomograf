{
 "cells": [
  {
   "attachments": {},
   "cell_type": "markdown",
   "metadata": {},
   "source": [
    "# Tomograf\n"
   ]
  },
  {
   "cell_type": "code",
   "execution_count": 97,
   "metadata": {},
   "outputs": [],
   "source": [
    "from ipywidgets import *\n",
    "from PIL import Image\n",
    "import numpy as np\n",
    "from skimage.draw import line\n",
    "from IPython.display import display"
   ]
  },
  {
   "attachments": {},
   "cell_type": "markdown",
   "metadata": {},
   "source": [
    "Tworzymy klasę odpowiadającą za przetwarzanie obrazu wejściowego na sinogram oraz późniejszą rekonstrukcję tego obrazu"
   ]
  },
  {
   "cell_type": "code",
   "execution_count": 98,
   "metadata": {},
   "outputs": [],
   "source": [
    "class Tomograph:\n",
    "    def __configure(self, img, *, alpha=1, n_detectors=1000, phi=np.pi, hamm_filter=True):\n",
    "        self.img = img\n",
    "        self.__reshape_img()\n",
    "        self.img = np.asarray(self.img)\n",
    "        self.alpha = alpha\n",
    "        self.n_detectors = n_detectors\n",
    "        self.phi = phi\n",
    "        self.n_steps = int(np.floor(180 / self.alpha))\n",
    "        self.generated_sinogram = np.zeros((self.n_steps, self.n_detectors), dtype=int)\n",
    "        self.bresenham_lines = []\n",
    "        self.hamm_filter = hamm_filter\n",
    "        self.reconstructed = []\n",
    "\n",
    "    def __reshape_img(self):\n",
    "        width, height = self.img.size\n",
    "        new_size = max(width, height)\n",
    "        self.img = self.img.resize((new_size, new_size))\n",
    "\n",
    "    def __map_coords(self, angle):\n",
    "        width = int(self.img.shape[0] / 2)\n",
    "        x = int(np.cos(angle) * width) + width - 1\n",
    "        y = -int(np.sin(angle) * width) + width - 1\n",
    "        return x, y\n",
    "\n",
    "    def get_sinogram(self):\n",
    "        return Image.fromarray(self.generated_sinogram).convert('L')\n",
    "\n",
    "    def __normalize_img(self, img):\n",
    "        brightest_pixel = np.max(img)\n",
    "        if brightest_pixel == 0:\n",
    "            return img\n",
    "        return img / brightest_pixel * 255\n",
    "\n",
    "    def __generate_sinogram(self):\n",
    "        i = 0\n",
    "        sl_filter = self.__hamming_filter(self.n_detectors)\n",
    "        for angle in np.arange(0, np.pi, self.alpha * (np.pi / 180)):\n",
    "            for detector in range(self.n_detectors):\n",
    "                emitter_angle = angle + self.phi / 2 - detector * self.phi / (self.n_detectors - 1)\n",
    "                emitter_coordX, emitter_coordY = self.__map_coords(emitter_angle)\n",
    "                detector_angle = angle + np.pi - self.phi / 2 + detector * self.phi / (self.n_detectors - 1)\n",
    "                detector_coordX, detector_coordY = self.__map_coords(detector_angle)\n",
    "\n",
    "                rr, cc = line(emitter_coordX, emitter_coordY, detector_coordX, detector_coordY)\n",
    "                self.generated_sinogram[i][detector] += self.img[rr, cc].sum()\n",
    "                self.bresenham_lines.append([rr, cc])\n",
    "\n",
    "            if self.hamm_filter:\n",
    "                self.generated_sinogram[i] = np.array(np.convolve(self.generated_sinogram[i], sl_filter, 'same'))\n",
    "            i += 1\n",
    "            # print(i)\n",
    "\n",
    "        self.generated_sinogram = self.__normalize_img(self.generated_sinogram)\n",
    "\n",
    "    def reconstruct(self):\n",
    "        reconstructed_img = np.zeros((self.img.shape[0], self.img.shape[1]))\n",
    "        i = 0\n",
    "        generated_sinogram_flattened = self.generated_sinogram.flatten()\n",
    "\n",
    "        for bresenham_line in self.bresenham_lines:\n",
    "            rr, cc = bresenham_line\n",
    "            reconstructed_img[rr, cc] += generated_sinogram_flattened[i]\n",
    "            i += 1\n",
    "            if i % 100 == 0:\n",
    "                self.reconstructed.append(reconstructed_img.copy())\n",
    "                self.reconstructed[-1] = self.__normalize_img(self.reconstructed[-1])\n",
    "                self.reconstructed[-1] = Image.fromarray(self.reconstructed[-1]).convert('L')\n",
    "                # print(i)\n",
    "        else:\n",
    "            self.reconstructed.append(reconstructed_img.copy())\n",
    "            self.reconstructed[-1] = self.__normalize_img(self.reconstructed[-1])\n",
    "            self.reconstructed[-1] = Image.fromarray(self.reconstructed[-1]).convert('L')\n",
    "            # print(i)\n",
    "\n",
    "    def get_reconstructed(self, number):\n",
    "        return self.reconstructed[number].resize((400, 400))\n",
    "    \n",
    "    def get_images_number(self):\n",
    "        return len(self.reconstructed)-1\n",
    "\n",
    "    # Ram-Lak with hamming filter\n",
    "    def __hamming_filter(self, length):\n",
    "        filter = []\n",
    "        ham = np.hamming(length)\n",
    "        length = int(length/2)\n",
    "        for i, j in zip(range(-length, length), ham):\n",
    "            if i % 2 != 0:\n",
    "                val = ((-4/np.pi**2)/(i**2)) * j\n",
    "                filter.append(val)\n",
    "            else:\n",
    "                filter.append(0)\n",
    "        filter[int(length)] = 1\n",
    "\n",
    "        return filter\n",
    "\n",
    "    def rmse(self, img1, img2):\n",
    "        return np.sqrt(np.mean((img1-img2)**2))\n",
    "    \n",
    "    def run(self, source, *, alpha=1, n_detectors=1000, phi=np.pi, hamm_filter=True):\n",
    "        initial_img = Image.open(source).convert('L')\n",
    "        self.__configure(initial_img, alpha=alpha, n_detectors=n_detectors, phi=phi, hamm_filter=hamm_filter)\n",
    "        self.__generate_sinogram()\n",
    "        path = 'Output/Sinogram/sinogram.jpg'\n",
    "        self.get_sinogram().save(path)\n",
    "        display(Image.open(path))\n",
    "        self.reconstruct()\n",
    "        # i=0\n",
    "        # reconstructed_images = []\n",
    "        # for img in self.reconstruct():\n",
    "        #     path = 'Output/Reconstructed_Image/part' + str(i) + '.jpg'\n",
    "        #     img.save(path)\n",
    "        #     img1 = open(path, 'rb').read()\n",
    "        #     wi1 = widgets.Image(value=img1, format='png')\n",
    "        #     reconstructed_images.append(img)\n",
    "        #     i += 1\n",
    "        # display(widgets.HBox(reconstructed_images))\n"
   ]
  },
  {
   "attachments": {},
   "cell_type": "markdown",
   "metadata": {},
   "source": [
    "### Wprowadzanie parametrów tomografu:\n",
    "-  SOURCE_IMAGE_PATH - lokalizacja obrazu wejściowego\n",
    "-  ALPHA - przeskok pomiędzy kolejnymi kątami nachylenia tomografu w stopniach\n",
    "-  N_DETECTORS - liczba detektorów użytych dla jednego kąta nachylenia tomografu\n",
    "-  PHI - kąt pomiędzy początkowym i końcowym połorzeniam tomografu"
   ]
  },
  {
   "cell_type": "code",
   "execution_count": 99,
   "metadata": {},
   "outputs": [
    {
     "data": {
      "image/png": "[encoded data removed]",
      "text/plain": [
       "<PIL.JpegImagePlugin.JpegImageFile image mode=L size=1000x180>"
      ]
     },
     "metadata": {},
     "output_type": "display_data"
    },
    {
     "data": {
      "application/vnd.jupyter.widget-view+json": {
       "model_id": "5334d2dbbdc047a2a6dac36b6963f0a7",
       "version_major": 2,
       "version_minor": 0
      },
      "text/plain": [
       "interactive(children=(IntSlider(value=0, description='number', max=1800), Output()), _dom_classes=('widget-int…"
      ]
     },
     "metadata": {},
     "output_type": "display_data"
    },
    {
     "data": {
      "text/plain": [
       "<function ipywidgets.widgets.interaction._InteractFactory.__call__.<locals>.<lambda>(*args, **kwargs)>"
      ]
     },
     "execution_count": 99,
     "metadata": {},
     "output_type": "execute_result"
    }
   ],
   "source": [
    "# config\n",
    "SOURCE_IMAGE_PATH = 'Input\\Img\\Shepp_logan.jpg'\n",
    "ALPHA = 1\n",
    "N_DETECTORS = 1000\n",
    "PHI = np.pi\n",
    "# config\n",
    "\n",
    "tomograph = Tomograph()\n",
    "tomograph.run(source=SOURCE_IMAGE_PATH, hamm_filter=True, alpha=ALPHA, n_detectors=N_DETECTORS, phi=PHI)\n",
    "interact(tomograph.get_reconstructed, number=IntSlider(value=0, min=0, max=tomograph.get_images_number()))\n"
   ]
  }
 ],
 "metadata": {
  "kernelspec": {
   "display_name": "Python 3 (ipykernel)",
   "language": "python",
   "name": "python3"
  },
  "language_info": {
   "codemirror_mode": {
    "name": "ipython",
    "version": 3
   },
   "file_extension": ".py",
   "mimetype": "text/x-python",
   "name": "python",
   "nbconvert_exporter": "python",
   "pygments_lexer": "ipython3",
   "version": "3.9.0"
  }
 },
 "nbformat": 4,
 "nbformat_minor": 2
}
