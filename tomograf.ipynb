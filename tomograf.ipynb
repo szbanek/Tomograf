{
 "cells": [
  {
   "cell_type": "code",
   "execution_count": 39,
   "metadata": {},
   "outputs": [],
   "source": [
    "from ipywidgets import *\n",
    "from PIL import Image\n",
    "import numpy as np\n",
    "from skimage.draw import line\n",
    "from IPython.display import display"
   ]
  },
  {
   "cell_type": "code",
   "execution_count": 40,
   "metadata": {},
   "outputs": [],
   "source": [
    "class Tomograph:\n",
    "    def __configure(self, img, *, alpha=1, n_detectors=1000, phi=np.pi):\n",
    "        self.img = img\n",
    "        self.__reshape_img()\n",
    "        self.img = np.asarray(self.img)\n",
    "        self.alpha = alpha\n",
    "        self.n_detectors = n_detectors\n",
    "        self.phi = phi\n",
    "        self.n_steps = int(np.floor(180 / self.alpha))\n",
    "        self.generated_sinogram = np.zeros((self.n_steps, self.n_detectors), dtype=int)\n",
    "        self.bresenham_lines = []\n",
    "\n",
    "    def __reshape_img(self):\n",
    "        width, height = self.img.size\n",
    "        new_size = max(width, height)\n",
    "        self.img = self.img.resize((new_size, new_size))\n",
    "\n",
    "    def __map_coords(self, angle):\n",
    "        width = int(self.img.shape[0] / 2)\n",
    "        x = int(np.cos(angle) * width) + width - 1\n",
    "        y = -int(np.sin(angle) * width) + width - 1\n",
    "        return x, y\n",
    "\n",
    "    def get_sinogram(self):\n",
    "        return Image.fromarray(self.generated_sinogram).convert('L')\n",
    "\n",
    "    def __normalize_img(self, img):\n",
    "        brightest_pixel = 0\n",
    "        for i in range(img.shape[0]):\n",
    "            for j in range(img.shape[1]):\n",
    "                if img[i][j] > brightest_pixel:\n",
    "                    brightest_pixel = img[i][j]\n",
    "        for i in range(img.shape[0]):\n",
    "            for j in range(img.shape[1]):\n",
    "                img[i][j] = int(img[i][j] / brightest_pixel * 255)\n",
    "        return img\n",
    "\n",
    "    def __generate_sinogram(self):\n",
    "        i = 0\n",
    "        sl_filter = self.__hamming_filter(self.n_detectors)\n",
    "        for angle in np.arange(0, np.pi, self.alpha * (np.pi / 180)):\n",
    "            for detector in range(self.n_detectors):\n",
    "                emitter_angle = angle + self.phi / 2 - detector * self.phi / (self.n_detectors - 1)\n",
    "                emitter_coordX, emitter_coordY = self.__map_coords(emitter_angle)\n",
    "                detector_angle = angle + np.pi - self.phi / 2 + detector * self.phi / (self.n_detectors - 1)\n",
    "                detector_coordX, detector_coordY = self.__map_coords(detector_angle)\n",
    "\n",
    "                rr, cc = line(emitter_coordX, emitter_coordY, detector_coordX, detector_coordY)\n",
    "                self.generated_sinogram[i][detector] += self.img[rr, cc].sum()\n",
    "                self.bresenham_lines.append([rr, cc])\n",
    "\n",
    "            self.generated_sinogram[i] = np.array(np.convolve(self.generated_sinogram[i], sl_filter, 'same'))\n",
    "            i += 1\n",
    "            # print(i)\n",
    "\n",
    "        self.generated_sinogram = self.__normalize_img(self.generated_sinogram)\n",
    "\n",
    "    def reconstruct(self, n_images=1):\n",
    "        reconstructed_img = np.zeros((self.img.shape[0], self.img.shape[1]))\n",
    "        i = 0\n",
    "        p = int(self.n_steps * self.n_detectors / n_images)\n",
    "        generated_sinogram_flattened = self.generated_sinogram.flatten()\n",
    "\n",
    "        for bresenham_line in self.bresenham_lines:\n",
    "            rr, cc = bresenham_line\n",
    "            reconstructed_img[rr, cc] += generated_sinogram_flattened[i]\n",
    "            i += 1\n",
    "            if i % p == 0:\n",
    "                # print(i, p)\n",
    "                norm_reconstructed_img = reconstructed_img.copy()\n",
    "                norm_reconstructed_img = self.__normalize_img(norm_reconstructed_img)\n",
    "                yield Image.fromarray(norm_reconstructed_img).convert('L')\n",
    "\n",
    "    # Ram-Lak with hamming filter\n",
    "    def __hamming_filter(self, length):\n",
    "        filter = []\n",
    "        ham = np.hamming(length)\n",
    "        length = int(length/2)\n",
    "        for i, j in zip(range(-length, length), ham):\n",
    "            if i % 2 != 0:\n",
    "                val = ((-4/np.pi**2)/(i**2)) * j\n",
    "                filter.append(val)\n",
    "            else:\n",
    "                filter.append(0)\n",
    "        filter[int(length)] = 1\n",
    "\n",
    "        return filter\n",
    "\n",
    "    def rmse(self, img1, img2):\n",
    "        return np.sqrt(np.mean((img1-img2)**2))\n",
    "    \n",
    "    def run(self, source, *, alpha=1, n_detectors=1000, phi=np.pi, n_images=4):\n",
    "        initial_img = Image.open(source).convert('L')\n",
    "        self.__configure(initial_img, alpha=alpha, n_detectors=n_detectors, phi=phi)\n",
    "        self.__generate_sinogram()\n",
    "        path = 'Output/Sinogram/sinogram.jpg'\n",
    "        self.get_sinogram().save(path)\n",
    "        display(Image.open(path))\n",
    "        i=0\n",
    "        reconstructed_images = []\n",
    "        for img in self.reconstruct(n_images=n_images):\n",
    "            path = 'Output/Reconstructed_Image/part' + str(i) + '.jpg'\n",
    "            img.save(path)\n",
    "            img1 = open(path, 'rb').read()\n",
    "            wi1 = widgets.Image(value=img1, format='png')\n",
    "            reconstructed_images.append(wi1)\n",
    "            i += 1\n",
    "        display(widgets.HBox(reconstructed_images))\n"
   ]
  },
  {
   "cell_type": "code",
   "execution_count": 46,
   "metadata": {},
   "outputs": [
    {
     "data": {
      "application/vnd.jupyter.widget-view+json": {
       "model_id": "f6d0b42bc55e4cf8b5001cafeb7328ab",
       "version_major": 2,
       "version_minor": 0
      },
      "text/plain": [
       "interactive(children=(IntSlider(value=1, description='alpha', max=3, min=-1), IntSlider(value=1000, descriptio…"
      ]
     },
     "metadata": {},
     "output_type": "display_data"
    },
    {
     "data": {
      "text/plain": [
       "<function ipywidgets.widgets.interaction._InteractFactory.__call__.<locals>.<lambda>(*args, **kwargs)>"
      ]
     },
     "execution_count": 46,
     "metadata": {},
     "output_type": "execute_result"
    }
   ],
   "source": [
    "# config\n",
    "SOURCE_IMAGE_PATH = 'Input/Kwadraty2.jpg'\n",
    "NUMBER_OF_RECONSTRUCTED_IMAGES = 4\n",
    "# config\n",
    "\n",
    "tomograph = Tomograph()\n",
    "interact(tomograph.run, source=fixed(SOURCE_IMAGE_PATH), n_images=fixed(NUMBER_OF_RECONSTRUCTED_IMAGES))\n"
   ]
  }
 ],
 "metadata": {
  "kernelspec": {
   "display_name": "Python 3",
   "language": "python",
   "name": "python3"
  },
  "language_info": {
   "codemirror_mode": {
    "name": "ipython",
    "version": 3
   },
   "file_extension": ".py",
   "mimetype": "text/x-python",
   "name": "python",
   "nbconvert_exporter": "python",
   "pygments_lexer": "ipython3",
   "version": "3.9.0"
  },
  "orig_nbformat": 4
 },
 "nbformat": 4,
 "nbformat_minor": 2
}
